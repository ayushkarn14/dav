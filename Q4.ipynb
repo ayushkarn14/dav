{
 "cells": [
  {
   "cell_type": "code",
   "execution_count": 4,
   "metadata": {},
   "outputs": [],
   "source": [
    "import numpy as np\n",
    "import pandas as pd"
   ]
  },
  {
   "cell_type": "code",
   "execution_count": 24,
   "metadata": {},
   "outputs": [
    {
     "name": "stdout",
     "output_type": "stream",
     "text": [
      "20\n"
     ]
    }
   ],
   "source": [
    "# f1=pd.ExcelFile('Day1_register.xlsx')\n",
    "df1=pd.read_excel('Day1_register.xlsx','Sheet1')\n",
    "df2=pd.read_excel('Day2_register.xlsx','Sheet1')\n",
    "name1=np.array(df1['Name'])\n",
    "name2=np.array(df2['Name'])\n",
    "print(len(np.union1d(name1,name2)))"
   ]
  },
  {
   "cell_type": "code",
   "execution_count": 22,
   "metadata": {},
   "outputs": [
    {
     "data": {
      "text/plain": [
       "0     Christine\n",
       "1         Susan\n",
       "2      Margaret\n",
       "3        Judith\n",
       "4      Jennifer\n",
       "5          Mary\n",
       "6     Elizabeth\n",
       "7      Patricia\n",
       "8         Linda\n",
       "9       Barbara\n",
       "10      Lynette\n",
       "11        Robyn\n",
       "12         Anne\n",
       "13        Karen\n",
       "14        Helen\n",
       "15       Sandra\n",
       "16        Wendy\n",
       "17        Janet\n",
       "18      Heather\n",
       "19        Diane\n",
       "Name: Name, dtype: object"
      ]
     },
     "execution_count": 22,
     "metadata": {},
     "output_type": "execute_result"
    }
   ],
   "source": [
    "df1.merge(df2,on='Name',how='inner')['Name']"
   ]
  },
  {
   "cell_type": "code",
   "execution_count": null,
   "metadata": {},
   "outputs": [],
   "source": []
  }
 ],
 "metadata": {
  "kernelspec": {
   "display_name": "Python 3",
   "language": "python",
   "name": "python3"
  },
  "language_info": {
   "codemirror_mode": {
    "name": "ipython",
    "version": 3
   },
   "file_extension": ".py",
   "mimetype": "text/x-python",
   "name": "python",
   "nbconvert_exporter": "python",
   "pygments_lexer": "ipython3",
   "version": "3.10.12"
  }
 },
 "nbformat": 4,
 "nbformat_minor": 2
}
